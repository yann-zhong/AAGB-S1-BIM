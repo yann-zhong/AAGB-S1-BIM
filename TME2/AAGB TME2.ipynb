{
 "cells": [
  {
   "cell_type": "code",
   "execution_count": 15,
   "metadata": {},
   "outputs": [],
   "source": [
    "import numpy as np\n",
    "import math\n",
    "import pandas as pd\n",
    "import itertools\n",
    "import string"
   ]
  },
  {
   "cell_type": "code",
   "execution_count": 217,
   "metadata": {},
   "outputs": [],
   "source": [
    "M1 = np.array([[0,8,7,12], [8,0,9,14], [7,9,0,11], [12,14,11,0]])\n",
    "M2 = np.array([[0,2,3,8,14,18],[2,0,3,8,14,18],\n",
    "      [3,3,0,8,14,18],[8,8,8,0,14,18],\n",
    "      [14,14,14,14,0,18],[18,18,18,18,18,0]])\n",
    "#UPGMA\n",
    "M3 = np.array([[0,19,27,8,33,18,13],[19,0,31,18,36,1,13],\n",
    "          [27,31,0,26,41,32,29],[8,18,26,0,31,17,14],\n",
    "          [33,36,41,31,0,35,28],[18,1,32,17,35,0,12],\n",
    "          [13,13,29,14,28,12,0]])\n",
    "#Neighbor Joining\n",
    "M4 = np.array([[0,2,4,6,6,8],[2,0,4,6,6,8],\n",
    "          [4,4,0,6,6,8],[6,6,6,0,4,8],\n",
    "          [6,6,6,4,0,8],[8,8,8,8,8,0]])\n",
    "\n",
    "# Distance matrices. For example M1[0] shows all the distances from point A to point A,B,C and D.\n",
    "# UPGMA produces an ultrametric tree and neighbor joining produces an additive tree\n",
    "\n",
    "#Matrice de test vue sur Youtube\n",
    "M5 = np.array([[0,9,2,4,9,10],[9,0,9,6,2,10],\n",
    "               [2,9,0,5,9,10],[4,6,5,0,6,10],\n",
    "               [9,2,9,6,0,10],[10,10,10,10,10,0]])\n",
    "\n",
    "#Matrice TD2\n",
    "M6 = np.array([[0.,19.,27.,8.,33.,18.,13.],[19.,0.,31.,18.,36.,1.,13.],\n",
    "             [27.,31.,0.,26.,41.,32.,29.],[8.,18.,26.,0.,31.,17.,14.],\n",
    "             [33.,36.,41.,31.,0.,35.,28.],[18.,1.,32.,17.,35.,0.,12.],\n",
    "             [13.,13.,29.,14.,28.,12.,0.]])"
   ]
  },
  {
   "cell_type": "code",
   "execution_count": 98,
   "metadata": {},
   "outputs": [],
   "source": [
    "# Question 1 Introduction\n",
    "# 1.1\n",
    "\n",
    "def additive_check(matrix):\n",
    "    \n",
    "    additive_bool = True # boolean that returns true if matrix is additive\n",
    "    \n",
    "    for each in itertools.permutations(range(len(matrix)),4):\n",
    "        if not matrix[each[0],each[1]] + matrix[each[2],each[3]] <= max( (matrix[each[0],each[2]] + matrix[each[1],each[3]]), (matrix[each[0],each[3]]+ matrix[each[1],each[2]]) ):\n",
    "            additive_bool = False\n",
    "            \n",
    "    return additive_bool"
   ]
  },
  {
   "cell_type": "code",
   "execution_count": 88,
   "metadata": {},
   "outputs": [
    {
     "data": {
      "text/plain": [
       "True"
      ]
     },
     "execution_count": 88,
     "metadata": {},
     "output_type": "execute_result"
    }
   ],
   "source": [
    "additive_check(M1)"
   ]
  },
  {
   "cell_type": "code",
   "execution_count": 89,
   "metadata": {},
   "outputs": [
    {
     "data": {
      "text/plain": [
       "True"
      ]
     },
     "execution_count": 89,
     "metadata": {},
     "output_type": "execute_result"
    }
   ],
   "source": [
    "additive_check(M2)"
   ]
  },
  {
   "cell_type": "code",
   "execution_count": 92,
   "metadata": {},
   "outputs": [
    {
     "data": {
      "text/plain": [
       "False"
      ]
     },
     "execution_count": 92,
     "metadata": {},
     "output_type": "execute_result"
    }
   ],
   "source": [
    "additive_check(M3)"
   ]
  },
  {
   "cell_type": "code",
   "execution_count": 87,
   "metadata": {},
   "outputs": [
    {
     "data": {
      "text/plain": [
       "True"
      ]
     },
     "execution_count": 87,
     "metadata": {},
     "output_type": "execute_result"
    }
   ],
   "source": [
    "additive_check(M4)"
   ]
  },
  {
   "cell_type": "code",
   "execution_count": 93,
   "metadata": {},
   "outputs": [],
   "source": [
    "# Question 1 Introduction\n",
    "# 1.1\n",
    "\n",
    "def ultrametric_check(matrix):\n",
    "    \n",
    "    ultrametric_bool = True # boolean that returns true if matrix is ultrametric\n",
    "    \n",
    "    for each in itertools.permutations(range(len(matrix)),3):\n",
    "        if not matrix[each[0],each[2]] <= max( matrix[each[0],each[1]] , matrix[each[1],each[2]] ):\n",
    "            ultrametric_bool = False\n",
    "            \n",
    "    return ultrametric_bool"
   ]
  },
  {
   "cell_type": "code",
   "execution_count": 94,
   "metadata": {},
   "outputs": [
    {
     "data": {
      "text/plain": [
       "False"
      ]
     },
     "execution_count": 94,
     "metadata": {},
     "output_type": "execute_result"
    }
   ],
   "source": [
    "ultrametric_check(M1)"
   ]
  },
  {
   "cell_type": "code",
   "execution_count": 95,
   "metadata": {},
   "outputs": [
    {
     "data": {
      "text/plain": [
       "True"
      ]
     },
     "execution_count": 95,
     "metadata": {},
     "output_type": "execute_result"
    }
   ],
   "source": [
    "ultrametric_check(M2)"
   ]
  },
  {
   "cell_type": "code",
   "execution_count": 96,
   "metadata": {},
   "outputs": [
    {
     "data": {
      "text/plain": [
       "False"
      ]
     },
     "execution_count": 96,
     "metadata": {},
     "output_type": "execute_result"
    }
   ],
   "source": [
    "ultrametric_check(M3)"
   ]
  },
  {
   "cell_type": "code",
   "execution_count": 97,
   "metadata": {},
   "outputs": [
    {
     "data": {
      "text/plain": [
       "True"
      ]
     },
     "execution_count": 97,
     "metadata": {},
     "output_type": "execute_result"
    }
   ],
   "source": [
    "ultrametric_check(M4)"
   ]
  },
  {
   "cell_type": "code",
   "execution_count": 113,
   "metadata": {},
   "outputs": [],
   "source": [
    "# Question 1 Introduction\n",
    "# 1.2\n",
    "\n",
    "def cluster_distance(matrix, cluster_one):\n",
    "    return sum(matrix[cluster_one])\n",
    "\n",
    "def cluster_distance_all(matrix):\n",
    "    return [cluster_distance(matrix,n) for n in range(len(matrix))]"
   ]
  },
  {
   "cell_type": "code",
   "execution_count": 116,
   "metadata": {},
   "outputs": [
    {
     "data": {
      "text/plain": [
       "27"
      ]
     },
     "execution_count": 116,
     "metadata": {},
     "output_type": "execute_result"
    }
   ],
   "source": [
    "cluster_distance(M1,0)"
   ]
  },
  {
   "cell_type": "code",
   "execution_count": 115,
   "metadata": {},
   "outputs": [
    {
     "data": {
      "text/plain": [
       "[27, 31, 27, 37]"
      ]
     },
     "execution_count": 115,
     "metadata": {},
     "output_type": "execute_result"
    }
   ],
   "source": [
    "cluster_distance_all(M1)"
   ]
  },
  {
   "attachments": {
    "image.png": {
     "image/png": "[encoded data removed]"
    }
   },
   "cell_type": "markdown",
   "metadata": {},
   "source": [
    "# Question 2: UPGMA\n",
    "\n",
    "2.1 The Newick format is a way of representing trees using parentheses and commas. \n",
    "For example the same tree can be represented in all the following ways:\n",
    "\n",
    "![image.png](attachment:image.png)\n",
    "\n",
    "(,,(,));                               no nodes are named\n",
    "\n",
    "(A,B,(C,D));                           leaf nodes are named\n",
    "\n",
    "(A,B,(C,D)E)F;                         all nodes are named\n",
    "\n",
    "(:0.1,:0.2,(:0.3,:0.4):0.5);           all but root node have a distance to parent\n",
    "\n",
    "(:0.1,:0.2,(:0.3,:0.4):0.5):0.0;       all have a distance to parent\n",
    "\n",
    "(A:0.1,B:0.2,(C:0.3,D:0.4):0.5);       distances and leaf names (popular)\n",
    "\n",
    "(A:0.1,B:0.2,(C:0.3,D:0.4)E:0.5)F;     distances and all names\n",
    "\n",
    "((B:0.2,(C:0.3,D:0.4)E:0.5)A:0.1)F;    a tree rooted on a leaf node (rare)"
   ]
  },
  {
   "cell_type": "code",
   "execution_count": 239,
   "metadata": {},
   "outputs": [],
   "source": [
    "# For UPGMA, we don't have to look at every element. If we have n different elements, then:\n",
    "# We look at no element from the first line, we look at the first element from the second line, we look at the first and second elements from the third line, etc\n",
    "# Generalization: if on line n, look at the n-1 elements\n",
    "\n",
    "def UPGMA(input_matrix):\n",
    "    \n",
    "    matrix = input_matrix.astype(float)\n",
    "    \n",
    "    # Three lists required; two for Newick, one for counting mergeable elements\n",
    "    newick_complete = []\n",
    "    newick_inc = []\n",
    "    \n",
    "    branches = len(matrix)\n",
    "    new_matrix = np.zeros((len(matrix),len(matrix)))\n",
    "\n",
    "    score_dictionary = {}\n",
    "    \n",
    "    # Create a dictionary for all corresponding branch index values: index 0 = first element so we name it \"A\"\n",
    "    leaf_dict2 = dict() \n",
    "    for index, letter in enumerate(string.ascii_uppercase):\n",
    "       leaf_dict2[index] = letter\n",
    "    # For example: leaf_dict2[0] will give the character A\n",
    "    \n",
    "    newick_dict = np.zeros(len(matrix))\n",
    "    newick_dict = newick_dict.tolist()\n",
    "    for n in range(len(matrix)):\n",
    "        newick_dict[n] = leaf_dict2[n]\n",
    "        \n",
    "    first_loop = True\n",
    "    while(len(matrix) > 1): # continue building the tree until we only have two branches left (change 3 to 2 after first loop works)\n",
    "        check_min = []\n",
    "    \n",
    "        # Part of the function to check for minimal distance. Run until we only have two rows left?\n",
    "        for n in range (1, len(matrix)): # ignore the first row\n",
    "            for m in range(n): # for first row, get 0 elements, for second row, get 1 element, for third row, get 2 elements...\n",
    "                check_min.append(matrix[n][m])\n",
    "                min_value = min(check_min)\n",
    "                min_args = np.where(matrix == min_value) # for M1, should return [0,2] and [2,0] which are the same distance\n",
    "        \n",
    "        first_combine = min_args[0][0] # First element to combine, for example 0 ==> A\n",
    "        first_letter = newick_dict[first_combine]\n",
    "        second_combine = min_args[0][1] # Second element to combine, for example 2 ==> C; ignore min_args[1][...] since it's the same\n",
    "        second_letter = newick_dict[second_combine]\n",
    "        \n",
    "        score_dictionary[first_letter+second_letter] = min_value # stores AC as 7 in first loop, then ACB as 4.25 in second loop, etc\n",
    "        \n",
    "        if(first_loop):\n",
    "            newick_inc = first_letter\n",
    "           \n",
    "        newick_inc = '(' + newick_inc + ',' + second_letter + ')' # add to the simplified version of Newick\n",
    "        \n",
    "        print(score_dictionary)\n",
    "        print(newick_inc)\n",
    "        \n",
    "        # Tree update: equidistance\n",
    "        tree_update = min_value/2 # assign this value to the branch length of the two concerned branches\n",
    "        newick_complete = []\n",
    "        # TO FINISH ONCE THE SIMPLIFIED VERSION WORKS\n",
    "        \n",
    "        # Distance update:       \n",
    "        for a in range(len(matrix)):\n",
    "            for b in range(len(matrix)):\n",
    "                if a != first_combine and a != second_combine:\n",
    "                    if b == first_combine or b == second_combine:\n",
    "                        new_matrix[a][b] = matrix[a][b] # fetch all the required values for new distances after merging\n",
    "        # print(new_matrix)\n",
    "        \n",
    "        # new_matrix now holds all the required values to calculate the new distances, which are put back into original matrix\n",
    "        for c in range(len(new_matrix)):\n",
    "            if (sum(new_matrix[c]) != 0): # if we are on a line that's not part of the first or second element to combine\n",
    "                matrix[c][first_combine] = ( len(newick_dict[first_combine])*new_matrix[c][first_combine] + len(newick_dict[second_combine])*new_matrix[c][second_combine] ) /( len(newick_dict[first_combine])+len(newick_dict[second_combine]) )\n",
    "                matrix[first_combine][c] = ( len(newick_dict[first_combine])*new_matrix[c][first_combine] + len(newick_dict[second_combine])*new_matrix[c][second_combine] ) /( len(newick_dict[first_combine])+len(newick_dict[second_combine]) )\n",
    "                   \n",
    "        # Nuke the row and column of the second element combined\n",
    "        matrix = np.delete(matrix, (second_combine), axis=0)\n",
    "        matrix = np.delete(matrix, (second_combine), axis=1)\n",
    "        # print(matrix)\n",
    "        \n",
    "        new_matrix = np.zeros((len(new_matrix)-1,len(new_matrix)-1))   # reduced by one dimension\n",
    "        newick_dict[first_combine] += newick_dict.pop(second_combine)  # reduce the dictionnary size by 1\n",
    "        print(newick_dict)\n",
    "\n",
    "        first_loop = False\n",
    "        print('\\n')\n",
    "    return newick_inc,newick_complete\n",
    "\n",
    "# The Newick format return value for M1 should be (distances and leaf names)\n",
    "# Assuming we give 0=>A, 1=>B, 2=>C, and 3=>D \n",
    "# (((A:3.5,C:3.5):0.75,B:4.25):1.9,D:6.15)\n",
    "# Simplified version:\n",
    "# (((A,C),B),D)"
   ]
  },
  {
   "cell_type": "code",
   "execution_count": 241,
   "metadata": {},
   "outputs": [
    {
     "name": "stdout",
     "output_type": "stream",
     "text": [
      "{'AC': 7.0}\n",
      "(A,C)\n",
      "['AC', 'B', 'D']\n",
      "\n",
      "\n",
      "{'AC': 7.0, 'ACB': 8.5}\n",
      "((A,C),B)\n",
      "['ACB', 'D']\n",
      "\n",
      "\n",
      "{'AC': 7.0, 'ACB': 8.5, 'ACBD': 12.333333333333334}\n",
      "(((A,C),B),D)\n",
      "['ACBD']\n",
      "\n",
      "\n",
      "(((A,C),B),D)\n",
      "[]\n"
     ]
    }
   ],
   "source": [
    "a,b = UPGMA(M1)\n",
    "print(a)\n",
    "print(b)"
   ]
  },
  {
   "cell_type": "code",
   "execution_count": 234,
   "metadata": {},
   "outputs": [
    {
     "name": "stdout",
     "output_type": "stream",
     "text": [
      "{'BF': 1.0}\n",
      "(B,F)\n",
      "['A', 'BF', 'C', 'D', 'E', 'G']\n",
      "\n",
      "\n",
      "{'BF': 1.0, 'AD': 8.0}\n",
      "(B,F)\n",
      "['AD', 'BF', 'C', 'E', 'G']\n",
      "\n",
      "\n",
      "{'BF': 1.0, 'AD': 8.0, 'BFG': 12.5}\n",
      "(B,F)\n",
      "['AD', 'BFG', 'C', 'E']\n",
      "\n",
      "\n",
      "{'BF': 1.0, 'AD': 8.0, 'BFG': 12.5, 'ADBFG': 16.5}\n",
      "(B,F)\n",
      "['ADBFG', 'C', 'E']\n",
      "\n",
      "\n",
      "{'BF': 1.0, 'AD': 8.0, 'BFG': 12.5, 'ADBFG': 16.5, 'ADBFGC': 29.0}\n",
      "(B,F)\n",
      "['ADBFGC', 'E']\n",
      "\n",
      "\n",
      "{'BF': 1.0, 'AD': 8.0, 'BFG': 12.5, 'ADBFG': 16.5, 'ADBFGC': 29.0, 'ADBFGCE': 34.0}\n",
      "(B,F)\n",
      "['ADBFGCE']\n",
      "\n",
      "\n"
     ]
    },
    {
     "data": {
      "text/plain": [
       "[]"
      ]
     },
     "execution_count": 234,
     "metadata": {},
     "output_type": "execute_result"
    }
   ],
   "source": [
    "UPGMA(M3)"
   ]
  },
  {
   "cell_type": "code",
   "execution_count": 36,
   "metadata": {},
   "outputs": [
    {
     "name": "stdout",
     "output_type": "stream",
     "text": [
      "[8, 7, 9, 12, 14, 11]\n",
      "7\n",
      "(array([0, 2], dtype=int64), array([2, 0], dtype=int64))\n",
      "[0 2]\n",
      "2\n"
     ]
    }
   ],
   "source": [
    "M1 = np.array([[0,8,7,12], [8,0,9,14], [7,9,0,11], [12,14,11,0]])\n",
    "check_min = []\n",
    "\n",
    "for n in range (1, len(M1)): # ignore the first row\n",
    "    for m in range(n):\n",
    "        check_min.append(M1[n][m])\n",
    "        min_value = min(check_min)\n",
    "        min_args = np.where(M1 == min_value) # for M1, should return [0,2] and [2,0] which are the same distance\n",
    "        \n",
    "print(check_min)\n",
    "print(min_value)\n",
    "print(min_args)\n",
    "print(min_args[0])\n",
    "print(min_args[0][1])"
   ]
  },
  {
   "cell_type": "code",
   "execution_count": 41,
   "metadata": {},
   "outputs": [
    {
     "name": "stdout",
     "output_type": "stream",
     "text": [
      "[[ 0. 19.  0.  0.  0. 18.  0.]\n",
      " [ 0.  0.  0.  0.  0.  0.  0.]\n",
      " [ 0. 31.  0.  0.  0. 32.  0.]\n",
      " [ 0. 18.  0.  0.  0. 17.  0.]\n",
      " [ 0. 36.  0.  0.  0. 35.  0.]\n",
      " [ 0.  0.  0.  0.  0.  0.  0.]\n",
      " [ 0. 13.  0.  0.  0. 12.  0.]]\n",
      "37.0\n"
     ]
    }
   ],
   "source": [
    "matrix = np.array([[0,8,7,12], [8,0,9,14], [7,9,0,11], [12,14,11,0]])\n",
    "M2 = np.array([[0,19,27,8,33,18,13],[19,0,31,18,36,1,13],[27,31,0,26,41,32,29],[8,18,26,0,31,17,14],[33,36,41,31,0,35,28],[18,1,32,17,35,0,12],[13,13,29,14,28,12,0]])\n",
    "M3 = np.array([[0,8,0,12], [0,0,0,0], [0,9,0,11], [0,0,0,0]])\n",
    "\n",
    "new_M2 = np.zeros((len(M2),len(M2)))\n",
    "\n",
    "for a in range(len(M2)):\n",
    "    for b in range(len(M2)):\n",
    "        if a != 1 and a != 5:\n",
    "            if b == 1 or b == 5:\n",
    "                new_M2[a][b] = M2[a][b]         \n",
    "\n",
    "print(new_M2)\n",
    "print(sum(new_M2[0]))"
   ]
  },
  {
   "cell_type": "code",
   "execution_count": 10,
   "metadata": {},
   "outputs": [
    {
     "name": "stdout",
     "output_type": "stream",
     "text": [
      "AC\n",
      "B\n",
      "ACB\n"
     ]
    }
   ],
   "source": [
    "split_list = string_cond.split(',')\n",
    "\n",
    "for i in split_list:\n",
    "    print(i)\n",
    "\n",
    "split_list[0] += split_list.pop(1)\n",
    "\n",
    "for i in split_list:\n",
    "    print(i)"
   ]
  },
  {
   "cell_type": "code",
   "execution_count": 49,
   "metadata": {},
   "outputs": [
    {
     "name": "stdout",
     "output_type": "stream",
     "text": [
      "['A', 'B', 'C', 'D']\n",
      "['AC', 'B', 'D']\n",
      "['ACB', 'D']\n"
     ]
    }
   ],
   "source": [
    "matrix = np.array([[0,8,7,12], [8,0,9,14], [7,9,0,11], [12,14,11,0]])\n",
    "leaf_dict2 = dict() \n",
    "for index, letter in enumerate(string.ascii_uppercase):\n",
    "    leaf_dict2[index] = letter\n",
    "\n",
    "newick = np.zeros(len(matrix))\n",
    "newick = newick.tolist()\n",
    "\n",
    "for n in range(len(matrix)):\n",
    "    newick[n] = leaf_dict2[n]\n",
    "print(newick)\n",
    "\n",
    "newick[0] += newick.pop(2)\n",
    "print(newick)\n",
    "\n",
    "newick[0] += newick.pop(1)\n",
    "print(newick)"
   ]
  },
  {
   "cell_type": "code",
   "execution_count": 79,
   "metadata": {},
   "outputs": [
    {
     "name": "stdout",
     "output_type": "stream",
     "text": [
      "{}\n",
      "{'mynewkey': 'mynewvalue'}\n",
      "{'mynewkey': 'mynewvalue', 'AC': 5}\n"
     ]
    }
   ],
   "source": [
    "d = {}\n",
    "print(d)\n",
    "# {'key': 'value'}\n",
    "d['mynewkey'] = 'mynewvalue'\n",
    "print(d)\n",
    "# {'key': 'value', 'mynewkey': 'mynewvalue'}\n",
    "\n",
    "d[leaf_dict2[0]+leaf_dict2[2]] = 5\n",
    "print(d)"
   ]
  }
 ],
 "metadata": {
  "kernelspec": {
   "display_name": "Python 3",
   "language": "python",
   "name": "python3"
  },
  "language_info": {
   "codemirror_mode": {
    "name": "ipython",
    "version": 3
   },
   "file_extension": ".py",
   "mimetype": "text/x-python",
   "name": "python",
   "nbconvert_exporter": "python",
   "pygments_lexer": "ipython3",
   "version": "3.8.3"
  }
 },
 "nbformat": 4,
 "nbformat_minor": 4
}
